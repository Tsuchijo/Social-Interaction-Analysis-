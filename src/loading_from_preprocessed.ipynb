{
 "cells": [
  {
   "cell_type": "code",
   "execution_count": 7,
   "metadata": {},
   "outputs": [],
   "source": [
    "import Trial_Processing as pts\n",
    "import numpy as np\n",
    "import matplotlib.pyplot as plt\n",
    "import pandas as pd\n",
    "import config\n",
    "import os"
   ]
  },
  {
   "cell_type": "code",
   "execution_count": 8,
   "metadata": {},
   "outputs": [
    {
     "data": {
      "text/html": [
       "<div>\n",
       "<style scoped>\n",
       "    .dataframe tbody tr th:only-of-type {\n",
       "        vertical-align: middle;\n",
       "    }\n",
       "\n",
       "    .dataframe tbody tr th {\n",
       "        vertical-align: top;\n",
       "    }\n",
       "\n",
       "    .dataframe thead th {\n",
       "        text-align: right;\n",
       "    }\n",
       "</style>\n",
       "<table border=\"1\" class=\"dataframe\">\n",
       "  <thead>\n",
       "    <tr style=\"text-align: right;\">\n",
       "      <th></th>\n",
       "      <th>Unnamed: 0</th>\n",
       "      <th>date</th>\n",
       "      <th>names</th>\n",
       "      <th>path</th>\n",
       "    </tr>\n",
       "  </thead>\n",
       "  <tbody>\n",
       "    <tr>\n",
       "      <th>0</th>\n",
       "      <td>0</td>\n",
       "      <td>20231005</td>\n",
       "      <td>M5M6</td>\n",
       "      <td>/mnt/teams/TM_Lab/Arjun Bhaskaran/Social inter...</td>\n",
       "    </tr>\n",
       "    <tr>\n",
       "      <th>1</th>\n",
       "      <td>1</td>\n",
       "      <td>20231005</td>\n",
       "      <td>M5M6</td>\n",
       "      <td>/mnt/teams/TM_Lab/Arjun Bhaskaran/Social inter...</td>\n",
       "    </tr>\n",
       "  </tbody>\n",
       "</table>\n",
       "</div>"
      ],
      "text/plain": [
       "   Unnamed: 0      date names  \\\n",
       "0           0  20231005  M5M6   \n",
       "1           1  20231005  M5M6   \n",
       "\n",
       "                                                path  \n",
       "0  /mnt/teams/TM_Lab/Arjun Bhaskaran/Social inter...  \n",
       "1  /mnt/teams/TM_Lab/Arjun Bhaskaran/Social inter...  "
      ]
     },
     "metadata": {},
     "output_type": "display_data"
    }
   ],
   "source": [
    "## preprocessing the data creates a csv with references to the paths of all the processed data csvs\n",
    "# we can read this to get additional metadata about each processed data csv\n",
    "processed_data_csv_reference_paths = pd.read_csv(os.path.join(config.remote_processed_data_path, 'output_reference_list.csv'))\n",
    "display(processed_data_csv_reference_paths)"
   ]
  },
  {
   "cell_type": "code",
   "execution_count": 9,
   "metadata": {},
   "outputs": [],
   "source": [
    "data_path = processed_data_csv_reference_paths['path'][0]\n",
    "## Using a photometry video data object we can load the data in a wrapper class that makes it easy to access the data\n",
    "photo_data = pts.PhotometryVideoData(data_path)"
   ]
  }
 ],
 "metadata": {
  "kernelspec": {
   "display_name": "social_interaction",
   "language": "python",
   "name": "python3"
  },
  "language_info": {
   "codemirror_mode": {
    "name": "ipython",
    "version": 3
   },
   "file_extension": ".py",
   "mimetype": "text/x-python",
   "name": "python",
   "nbconvert_exporter": "python",
   "pygments_lexer": "ipython3",
   "version": "3.10.13"
  }
 },
 "nbformat": 4,
 "nbformat_minor": 2
}
